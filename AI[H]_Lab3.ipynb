{
  "nbformat": 4,
  "nbformat_minor": 0,
  "metadata": {
    "colab": {
      "provenance": []
    },
    "kernelspec": {
      "name": "python3",
      "display_name": "Python 3"
    },
    "language_info": {
      "name": "python"
    }
  },
  "cells": [
    {
      "cell_type": "markdown",
      "source": [
        "#Name: Faria Ahmed Richi\n",
        "#ID: 22-46371-1"
      ],
      "metadata": {
        "id": "Lp9oOFwOM_FX"
      }
    },
    {
      "cell_type": "code",
      "source": [
        "#1\n",
        "def shiftLeft(source, k):\n",
        "    length = len(source)\n",
        "    for i in range(length - k):\n",
        "        source[i] = source[i + k]\n",
        "    for i in range(length - k, length):\n",
        "        source[i] = 0\n",
        "\n",
        "source = [10, 20, 30, 40, 50, 60]\n",
        "shiftLeft(source, 3)\n",
        "print(source)\n"
      ],
      "metadata": {
        "colab": {
          "base_uri": "https://localhost:8080/"
        },
        "id": "HB1q02H1NAPx",
        "outputId": "cfd31722-a755-468b-c04a-68c0d73bba4d"
      },
      "execution_count": 14,
      "outputs": [
        {
          "output_type": "stream",
          "name": "stdout",
          "text": [
            "[40, 50, 60, 0, 0, 0]\n"
          ]
        }
      ]
    },
    {
      "cell_type": "code",
      "source": [
        "#3\n",
        "def remove(source, size, idx):\n",
        "    for i in range(idx, size - 1):\n",
        "        source[i] = source[i + 1]\n",
        "    source[size - 1] = 0\n",
        "\n",
        "source = [10, 20, 30, 40, 50, 0, 0]\n",
        "size = 5\n",
        "idx = 2\n",
        "remove(source, size, idx)\n",
        "print(source)"
      ],
      "metadata": {
        "colab": {
          "base_uri": "https://localhost:8080/"
        },
        "id": "XjjpK78QX1ew",
        "outputId": "433632c0-aa26-462f-f832-8bd9ef1fb384"
      },
      "execution_count": 15,
      "outputs": [
        {
          "output_type": "stream",
          "name": "stdout",
          "text": [
            "[10, 20, 40, 50, 0, 0, 0]\n"
          ]
        }
      ]
    },
    {
      "cell_type": "code",
      "source": [
        "#4\n",
        "def removeAll(source, size, element):\n",
        "    i = 0\n",
        "    while i < size:\n",
        "        if source[i] == element:\n",
        "            for j in range(i, size - 1):\n",
        "                source[j] = source[j + 1]\n",
        "            size -= 1\n",
        "            i -= 1\n",
        "        i += 1\n",
        "\n",
        "    for i in range(size, len(source)):\n",
        "        source[i] = 0\n",
        "\n",
        "source = [10, 2, 30, 2, 50, 2, 2, 0, 0]\n",
        "size = 7\n",
        "element = 2\n",
        "removeAll(source, size, element)\n",
        "print(source)"
      ],
      "metadata": {
        "colab": {
          "base_uri": "https://localhost:8080/"
        },
        "id": "N-TquTVGYld-",
        "outputId": "098bd50c-8d48-4dbb-bd60-edae6b0ba1c4"
      },
      "execution_count": 16,
      "outputs": [
        {
          "output_type": "stream",
          "name": "stdout",
          "text": [
            "[10, 30, 50, 0, 0, 0, 0, 0, 0]\n"
          ]
        }
      ]
    },
    {
      "cell_type": "code",
      "source": [
        "#2\n",
        "def rotateLeft(source, k):\n",
        "    length = len(source)\n",
        "    rotate_index = k % length\n",
        "    rotated_array = source[rotate_index:] + source[:rotate_index]\n",
        "    for i in range(length):\n",
        "        source[i] = rotated_array[i]\n",
        "\n",
        "source = [10, 20, 30, 40, 50, 60]\n",
        "rotateLeft(source, 3)\n",
        "print(source)"
      ],
      "metadata": {
        "colab": {
          "base_uri": "https://localhost:8080/"
        },
        "id": "A1n3_PZAWdbg",
        "outputId": "f0e9690a-6325-4e22-8f4d-dbe7f2da9a49"
      },
      "execution_count": 12,
      "outputs": [
        {
          "output_type": "stream",
          "name": "stdout",
          "text": [
            "[40, 50, 60, 10, 20, 30]\n"
          ]
        }
      ]
    }
  ]
}